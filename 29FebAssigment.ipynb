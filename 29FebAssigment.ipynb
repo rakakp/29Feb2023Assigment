{
 "cells": [
  {
   "cell_type": "code",
   "execution_count": 1,
   "id": "a6377ec0-f7be-4463-9f0d-f31dc3d9484f",
   "metadata": {},
   "outputs": [
    {
     "data": {
      "text/plain": [
       "'\\t\\nQ1 Guido van Rossum a dutch programmer\\nQ2 Python is a multi-paradigm programming language\\nQ3 Yes, Python is a case-sensitive with identofiers\\nQ4 .py, .pyi, etc..\\nQ5 Python is an interpreted language\\nQ6 In Python, to define a block of code we use indentation\\nQ7 Hash character(#)\\nQ8 sys.version\\nQ9 lamda funtion\\nQ10 Programming Language Paradigm\\nQ11 print(), type(), max() etc\\nQ12 maximum length of 79 characters in Python\\nQ13 Used in data science, Web development, Finance and Trading, etc\\nQ14 Memory management in Python involves a private heap containing all Python objects and data structures.\\nQ15 Use python windows installer. Set Path variable under Advanced system settings->Environment Variables\\nQ16 Indentation is required in python\\n'"
      ]
     },
     "execution_count": 1,
     "metadata": {},
     "output_type": "execute_result"
    }
   ],
   "source": [
    "'''\t\n",
    "Q1 Guido van Rossum a dutch programmer\n",
    "Q2 Python is a multi-paradigm programming language\n",
    "Q3 Yes, Python is a case-sensitive with identofiers\n",
    "Q4 .py, .pyi, etc..\n",
    "Q5 Python is an interpreted language\n",
    "Q6 In Python, to define a block of code we use indentation\n",
    "Q7 Hash character(#)\n",
    "Q8 sys.version\n",
    "Q9 lamda funtion\n",
    "Q10 Programming Language Paradigm\n",
    "Q11 print(), type(), max() etc\n",
    "Q12 maximum length of 79 characters in Python\n",
    "Q13 Used in data science, Web development, Finance and Trading, etc\n",
    "Q14 Memory management in Python involves a private heap containing all Python objects and data structures.\n",
    "Q15 Use python windows installer. Set Path variable under Advanced system settings->Environment Variables\n",
    "Q16 Indentation is required in python\n",
    "'''"
   ]
  },
  {
   "cell_type": "code",
   "execution_count": null,
   "id": "52c52180-57fd-4231-b1d5-424c599dc895",
   "metadata": {},
   "outputs": [],
   "source": []
  }
 ],
 "metadata": {
  "kernelspec": {
   "display_name": "Python 3 (ipykernel)",
   "language": "python",
   "name": "python3"
  },
  "language_info": {
   "codemirror_mode": {
    "name": "ipython",
    "version": 3
   },
   "file_extension": ".py",
   "mimetype": "text/x-python",
   "name": "python",
   "nbconvert_exporter": "python",
   "pygments_lexer": "ipython3",
   "version": "3.10.8"
  }
 },
 "nbformat": 4,
 "nbformat_minor": 5
}
